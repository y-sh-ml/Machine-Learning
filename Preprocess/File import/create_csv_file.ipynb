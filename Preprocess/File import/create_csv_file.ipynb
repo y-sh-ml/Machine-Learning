{
 "cells": [
  {
   "cell_type": "markdown",
   "id": "b26ea9ef",
   "metadata": {},
   "source": [
    "Excel でデータを作成 → Jupyter Notebook で csv 化する"
   ]
  }
 ],
 "metadata": {
  "kernelspec": {
   "display_name": "Python 3 (ipykernel)",
   "language": "python",
   "name": "python3"
  },
  "language_info": {
   "codemirror_mode": {
    "name": "ipython",
    "version": 3
   },
   "file_extension": ".py",
   "mimetype": "text/x-python",
   "name": "python",
   "nbconvert_exporter": "python",
   "pygments_lexer": "ipython3",
   "version": "3.11.5"
  }
 },
 "nbformat": 4,
 "nbformat_minor": 5
}
